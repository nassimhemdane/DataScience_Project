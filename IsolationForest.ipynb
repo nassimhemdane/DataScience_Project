{
  "nbformat": 4,
  "nbformat_minor": 0,
  "metadata": {
    "colab": {
      "name": "IsolationForest.ipynb",
      "provenance": [],
      "collapsed_sections": []
    },
    "kernelspec": {
      "name": "python3",
      "display_name": "Python 3"
    },
    "language_info": {
      "name": "python"
    }
  },
  "cells": [
    {
      "cell_type": "code",
      "metadata": {
        "id": "JGu3vWGAMrAP"
      },
      "source": [
        "import pandas as pd\n",
        "import numpy as np\n",
        "\n",
        "trainData = pd.read_parquet('/content/gdrive/My Drive/DataScience/Class1.parquet', engine='pyarrow')\n",
        "trainData2 = pd.read_parquet('/content/gdrive/My Drive/DataScience/Class2.parquet', engine='pyarrow')\n",
        "testData = pd.read_parquet('/content/gdrive/My Drive/DataScience/validation.parquet', engine='pyarrow')\n",
        "trainData = trainData.T\n",
        "trainData2 = trainData2.T\n",
        "testData = testData.T \n",
        "\n",
        "dataset = trainData.append(trainData2)"
      ],
      "execution_count": null,
      "outputs": []
    },
    {
      "cell_type": "code",
      "metadata": {
        "id": "bJHseQLvEcpG"
      },
      "source": [
        "from sklearn.ensemble import IsolationForest\n",
        "import numpy as np\n",
        "state = np.random.RandomState(42)\n",
        "\n",
        "outlier_fraction = 400/len(dataset)\n",
        "\n",
        "clf = IsolationForest(n_estimators=100, max_samples=len(dataset), contamination=outlier_fraction,random_state=state, verbose=0)\n",
        "clf.fit(dataset)\n",
        "scores_prediction = clf.decision_function(dataset)\n",
        "y_pred = clf.predict(testData)"
      ],
      "execution_count": null,
      "outputs": []
    },
    {
      "cell_type": "code",
      "metadata": {
        "colab": {
          "base_uri": "https://localhost:8080/"
        },
        "id": "zPDKQyYsHxNq",
        "outputId": "7347bc53-1b46-4e0a-d91e-95a5a0af8d62"
      },
      "source": [
        "# Replacing 1s by 0s and -1s by 1\n",
        "y_pred = [0 if x==1 else x for x in y_pred]\n",
        "y_pred = [1 if x==-1 else x for x in y_pred]\n",
        "\n",
        "#number of abnormal data in the testData\n",
        "c = 0\n",
        "for i in y_pred:\n",
        "  if i == 1:\n",
        "    c+=1\n",
        "c"
      ],
      "execution_count": null,
      "outputs": [
        {
          "output_type": "execute_result",
          "data": {
            "text/plain": [
              "72"
            ]
          },
          "metadata": {
            "tags": []
          },
          "execution_count": 49
        }
      ]
    },
    {
      "cell_type": "code",
      "metadata": {
        "id": "jubNBSCzFypa"
      },
      "source": [
        "instances = []\n",
        "for i in range(180):\n",
        "  instances.append(\"instance_\" + str(i))\n",
        "instances\n",
        "df = pd.DataFrame({'instances' : instances,'label' : y_pred})\n",
        "df.rename(columns={0: \"instances\", 1: \"label\"})\n",
        "df[\"label\"] = df.label.astype(np.int)\n",
        "df\n",
        "df.to_csv('/content/gdrive/My Drive/DataScience/test.csv',index=False)"
      ],
      "execution_count": null,
      "outputs": []
    }
  ]
}