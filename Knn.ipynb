{
  "nbformat": 4,
  "nbformat_minor": 0,
  "metadata": {
    "colab": {
      "name": "Knn.ipynb",
      "provenance": [],
      "collapsed_sections": []
    },
    "kernelspec": {
      "name": "python3",
      "display_name": "Python 3"
    },
    "language_info": {
      "name": "python"
    }
  },
  "cells": [
    {
      "cell_type": "code",
      "metadata": {
        "id": "J-mUJWvqCujM"
      },
      "source": [
        "import pandas as pd\n",
        "import numpy as np\n",
        "\n",
        "trainData = pd.read_parquet('/content/gdrive/My Drive/DataScience/Class1.parquet', engine='pyarrow')\n",
        "testData = pd.read_parquet('/content/gdrive/My Drive/DataScience/validation.parquet', engine='pyarrow')\n",
        "trainData = trainData.T \n",
        "testData = testData.T \n",
        "\n",
        "dataset = trainData.append(testData)"
      ],
      "execution_count": 10,
      "outputs": []
    },
    {
      "cell_type": "code",
      "metadata": {
        "colab": {
          "base_uri": "https://localhost:8080/",
          "height": 255
        },
        "id": "96rG9jVbD8it",
        "outputId": "d0370b15-1cd3-4bc8-b959-3cd5869e379e"
      },
      "source": [
        "dataset.head()"
      ],
      "execution_count": 3,
      "outputs": [
        {
          "output_type": "execute_result",
          "data": {
            "text/html": [
              "<div>\n",
              "<style scoped>\n",
              "    .dataframe tbody tr th:only-of-type {\n",
              "        vertical-align: middle;\n",
              "    }\n",
              "\n",
              "    .dataframe tbody tr th {\n",
              "        vertical-align: top;\n",
              "    }\n",
              "\n",
              "    .dataframe thead th {\n",
              "        text-align: right;\n",
              "    }\n",
              "</style>\n",
              "<table border=\"1\" class=\"dataframe\">\n",
              "  <thead>\n",
              "    <tr style=\"text-align: right;\">\n",
              "      <th></th>\n",
              "      <th>0</th>\n",
              "      <th>1</th>\n",
              "      <th>2</th>\n",
              "      <th>3</th>\n",
              "      <th>4</th>\n",
              "      <th>5</th>\n",
              "      <th>6</th>\n",
              "      <th>7</th>\n",
              "      <th>8</th>\n",
              "      <th>9</th>\n",
              "      <th>10</th>\n",
              "      <th>11</th>\n",
              "      <th>12</th>\n",
              "      <th>13</th>\n",
              "      <th>14</th>\n",
              "      <th>15</th>\n",
              "      <th>16</th>\n",
              "      <th>17</th>\n",
              "      <th>18</th>\n",
              "      <th>19</th>\n",
              "      <th>20</th>\n",
              "      <th>21</th>\n",
              "      <th>22</th>\n",
              "      <th>23</th>\n",
              "      <th>24</th>\n",
              "      <th>25</th>\n",
              "      <th>26</th>\n",
              "      <th>27</th>\n",
              "      <th>28</th>\n",
              "      <th>29</th>\n",
              "      <th>30</th>\n",
              "      <th>31</th>\n",
              "      <th>32</th>\n",
              "      <th>33</th>\n",
              "      <th>34</th>\n",
              "      <th>35</th>\n",
              "      <th>36</th>\n",
              "      <th>37</th>\n",
              "      <th>38</th>\n",
              "      <th>39</th>\n",
              "      <th>...</th>\n",
              "      <th>61400</th>\n",
              "      <th>61401</th>\n",
              "      <th>61402</th>\n",
              "      <th>61403</th>\n",
              "      <th>61404</th>\n",
              "      <th>61405</th>\n",
              "      <th>61406</th>\n",
              "      <th>61407</th>\n",
              "      <th>61408</th>\n",
              "      <th>61409</th>\n",
              "      <th>61410</th>\n",
              "      <th>61411</th>\n",
              "      <th>61412</th>\n",
              "      <th>61413</th>\n",
              "      <th>61414</th>\n",
              "      <th>61415</th>\n",
              "      <th>61416</th>\n",
              "      <th>61417</th>\n",
              "      <th>61418</th>\n",
              "      <th>61419</th>\n",
              "      <th>61420</th>\n",
              "      <th>61421</th>\n",
              "      <th>61422</th>\n",
              "      <th>61423</th>\n",
              "      <th>61424</th>\n",
              "      <th>61425</th>\n",
              "      <th>61426</th>\n",
              "      <th>61427</th>\n",
              "      <th>61428</th>\n",
              "      <th>61429</th>\n",
              "      <th>61430</th>\n",
              "      <th>61431</th>\n",
              "      <th>61432</th>\n",
              "      <th>61433</th>\n",
              "      <th>61434</th>\n",
              "      <th>61435</th>\n",
              "      <th>61436</th>\n",
              "      <th>61437</th>\n",
              "      <th>61438</th>\n",
              "      <th>61439</th>\n",
              "    </tr>\n",
              "  </thead>\n",
              "  <tbody>\n",
              "    <tr>\n",
              "      <th>instance_0</th>\n",
              "      <td>0.041259</td>\n",
              "      <td>0.041259</td>\n",
              "      <td>0.032573</td>\n",
              "      <td>0.023887</td>\n",
              "      <td>0.029315</td>\n",
              "      <td>0.041259</td>\n",
              "      <td>0.045602</td>\n",
              "      <td>0.038001</td>\n",
              "      <td>0.030401</td>\n",
              "      <td>0.032573</td>\n",
              "      <td>0.041259</td>\n",
              "      <td>0.046687</td>\n",
              "      <td>0.045602</td>\n",
              "      <td>0.040173</td>\n",
              "      <td>0.034744</td>\n",
              "      <td>0.034744</td>\n",
              "      <td>0.040173</td>\n",
              "      <td>0.042344</td>\n",
              "      <td>0.038001</td>\n",
              "      <td>0.030401</td>\n",
              "      <td>0.027144</td>\n",
              "      <td>0.027144</td>\n",
              "      <td>0.030401</td>\n",
              "      <td>0.030401</td>\n",
              "      <td>0.026058</td>\n",
              "      <td>0.029315</td>\n",
              "      <td>0.044516</td>\n",
              "      <td>0.049945</td>\n",
              "      <td>0.041259</td>\n",
              "      <td>0.034744</td>\n",
              "      <td>0.040173</td>\n",
              "      <td>0.045602</td>\n",
              "      <td>0.040173</td>\n",
              "      <td>0.032573</td>\n",
              "      <td>0.032573</td>\n",
              "      <td>0.036916</td>\n",
              "      <td>0.043430</td>\n",
              "      <td>0.048859</td>\n",
              "      <td>0.047773</td>\n",
              "      <td>0.033658</td>\n",
              "      <td>...</td>\n",
              "      <td>0.041259</td>\n",
              "      <td>0.116176</td>\n",
              "      <td>0.051030</td>\n",
              "      <td>-0.022801</td>\n",
              "      <td>0.056459</td>\n",
              "      <td>0.115090</td>\n",
              "      <td>0.016286</td>\n",
              "      <td>-0.056459</td>\n",
              "      <td>0.015201</td>\n",
              "      <td>0.062974</td>\n",
              "      <td>-0.002172</td>\n",
              "      <td>-0.016286</td>\n",
              "      <td>0.043430</td>\n",
              "      <td>0.018458</td>\n",
              "      <td>-0.026058</td>\n",
              "      <td>0.034744</td>\n",
              "      <td>0.084689</td>\n",
              "      <td>0.039087</td>\n",
              "      <td>0.000000</td>\n",
              "      <td>-0.010858</td>\n",
              "      <td>-0.038001</td>\n",
              "      <td>-0.018458</td>\n",
              "      <td>0.047773</td>\n",
              "      <td>0.047773</td>\n",
              "      <td>-0.024972</td>\n",
              "      <td>-0.020629</td>\n",
              "      <td>0.078174</td>\n",
              "      <td>0.093375</td>\n",
              "      <td>0.018458</td>\n",
              "      <td>0.013029</td>\n",
              "      <td>0.034744</td>\n",
              "      <td>-0.007600</td>\n",
              "      <td>-0.003257</td>\n",
              "      <td>0.065145</td>\n",
              "      <td>0.047773</td>\n",
              "      <td>-0.009772</td>\n",
              "      <td>0.031487</td>\n",
              "      <td>0.096632</td>\n",
              "      <td>0.077089</td>\n",
              "      <td>0.040173</td>\n",
              "    </tr>\n",
              "    <tr>\n",
              "      <th>instance_1</th>\n",
              "      <td>-0.211722</td>\n",
              "      <td>-0.264924</td>\n",
              "      <td>-0.274696</td>\n",
              "      <td>-0.236694</td>\n",
              "      <td>-0.156349</td>\n",
              "      <td>-0.059716</td>\n",
              "      <td>0.005429</td>\n",
              "      <td>0.046687</td>\n",
              "      <td>0.153091</td>\n",
              "      <td>0.281210</td>\n",
              "      <td>0.317040</td>\n",
              "      <td>0.318126</td>\n",
              "      <td>0.356127</td>\n",
              "      <td>0.390871</td>\n",
              "      <td>0.386528</td>\n",
              "      <td>0.292068</td>\n",
              "      <td>0.130290</td>\n",
              "      <td>0.040173</td>\n",
              "      <td>0.024972</td>\n",
              "      <td>-0.052116</td>\n",
              "      <td>-0.169378</td>\n",
              "      <td>-0.219322</td>\n",
              "      <td>-0.219322</td>\n",
              "      <td>-0.230180</td>\n",
              "      <td>-0.267095</td>\n",
              "      <td>-0.312697</td>\n",
              "      <td>-0.310526</td>\n",
              "      <td>-0.266010</td>\n",
              "      <td>-0.235609</td>\n",
              "      <td>-0.172635</td>\n",
              "      <td>-0.038001</td>\n",
              "      <td>0.042344</td>\n",
              "      <td>0.066231</td>\n",
              "      <td>0.178064</td>\n",
              "      <td>0.317040</td>\n",
              "      <td>0.410415</td>\n",
              "      <td>0.461445</td>\n",
              "      <td>0.429959</td>\n",
              "      <td>0.353956</td>\n",
              "      <td>0.294239</td>\n",
              "      <td>...</td>\n",
              "      <td>-0.321383</td>\n",
              "      <td>0.141148</td>\n",
              "      <td>0.513562</td>\n",
              "      <td>0.640595</td>\n",
              "      <td>0.787171</td>\n",
              "      <td>1.016265</td>\n",
              "      <td>1.059696</td>\n",
              "      <td>0.850145</td>\n",
              "      <td>0.771971</td>\n",
              "      <td>0.750256</td>\n",
              "      <td>0.387614</td>\n",
              "      <td>-0.090118</td>\n",
              "      <td>-0.414758</td>\n",
              "      <td>-0.638423</td>\n",
              "      <td>-0.781743</td>\n",
              "      <td>-0.842545</td>\n",
              "      <td>-0.892490</td>\n",
              "      <td>-0.998893</td>\n",
              "      <td>-0.918548</td>\n",
              "      <td>-0.572192</td>\n",
              "      <td>-0.279039</td>\n",
              "      <td>-0.033658</td>\n",
              "      <td>0.205207</td>\n",
              "      <td>0.465788</td>\n",
              "      <td>0.847974</td>\n",
              "      <td>1.145470</td>\n",
              "      <td>1.130270</td>\n",
              "      <td>0.875117</td>\n",
              "      <td>0.701397</td>\n",
              "      <td>0.568935</td>\n",
              "      <td>0.260581</td>\n",
              "      <td>-0.004343</td>\n",
              "      <td>-0.241037</td>\n",
              "      <td>-0.636252</td>\n",
              "      <td>-0.953292</td>\n",
              "      <td>-0.980436</td>\n",
              "      <td>-0.846888</td>\n",
              "      <td>-0.838202</td>\n",
              "      <td>-0.880546</td>\n",
              "      <td>-0.739398</td>\n",
              "    </tr>\n",
              "    <tr>\n",
              "      <th>instance_2</th>\n",
              "      <td>0.214105</td>\n",
              "      <td>0.154930</td>\n",
              "      <td>0.136640</td>\n",
              "      <td>0.013987</td>\n",
              "      <td>-0.038733</td>\n",
              "      <td>-0.015063</td>\n",
              "      <td>-0.111894</td>\n",
              "      <td>-0.104363</td>\n",
              "      <td>0.047340</td>\n",
              "      <td>-0.054871</td>\n",
              "      <td>-0.235623</td>\n",
              "      <td>-0.174296</td>\n",
              "      <td>-0.189359</td>\n",
              "      <td>-0.302329</td>\n",
              "      <td>-0.238851</td>\n",
              "      <td>-0.128033</td>\n",
              "      <td>-0.058099</td>\n",
              "      <td>0.034429</td>\n",
              "      <td>-0.005380</td>\n",
              "      <td>-0.078541</td>\n",
              "      <td>0.060251</td>\n",
              "      <td>0.117273</td>\n",
              "      <td>0.025822</td>\n",
              "      <td>0.078541</td>\n",
              "      <td>0.163537</td>\n",
              "      <td>0.146323</td>\n",
              "      <td>0.116198</td>\n",
              "      <td>0.051643</td>\n",
              "      <td>-0.013987</td>\n",
              "      <td>0.020442</td>\n",
              "      <td>0.011835</td>\n",
              "      <td>-0.089300</td>\n",
              "      <td>-0.043036</td>\n",
              "      <td>-0.046264</td>\n",
              "      <td>-0.242078</td>\n",
              "      <td>-0.247458</td>\n",
              "      <td>-0.215181</td>\n",
              "      <td>-0.375490</td>\n",
              "      <td>-0.345365</td>\n",
              "      <td>-0.153854</td>\n",
              "      <td>...</td>\n",
              "      <td>-0.080693</td>\n",
              "      <td>-0.515358</td>\n",
              "      <td>-0.682123</td>\n",
              "      <td>-0.940340</td>\n",
              "      <td>-1.264186</td>\n",
              "      <td>-1.320134</td>\n",
              "      <td>-1.127547</td>\n",
              "      <td>-1.005970</td>\n",
              "      <td>-0.762816</td>\n",
              "      <td>-0.193663</td>\n",
              "      <td>0.278659</td>\n",
              "      <td>0.539028</td>\n",
              "      <td>0.754208</td>\n",
              "      <td>1.037171</td>\n",
              "      <td>1.178114</td>\n",
              "      <td>1.178114</td>\n",
              "      <td>1.252352</td>\n",
              "      <td>1.164128</td>\n",
              "      <td>0.753132</td>\n",
              "      <td>0.313088</td>\n",
              "      <td>-0.094679</td>\n",
              "      <td>-0.383022</td>\n",
              "      <td>-0.710096</td>\n",
              "      <td>-1.136154</td>\n",
              "      <td>-1.333044</td>\n",
              "      <td>-1.244820</td>\n",
              "      <td>-1.058689</td>\n",
              "      <td>-0.930656</td>\n",
              "      <td>-0.731614</td>\n",
              "      <td>-0.318467</td>\n",
              "      <td>0.040884</td>\n",
              "      <td>0.375490</td>\n",
              "      <td>0.699337</td>\n",
              "      <td>0.965085</td>\n",
              "      <td>1.086662</td>\n",
              "      <td>1.132926</td>\n",
              "      <td>1.279249</td>\n",
              "      <td>1.296464</td>\n",
              "      <td>0.937112</td>\n",
              "      <td>0.451879</td>\n",
              "    </tr>\n",
              "    <tr>\n",
              "      <th>instance_3</th>\n",
              "      <td>-0.154837</td>\n",
              "      <td>-0.127768</td>\n",
              "      <td>-0.217638</td>\n",
              "      <td>-0.284770</td>\n",
              "      <td>-0.299929</td>\n",
              "      <td>-0.270694</td>\n",
              "      <td>-0.077960</td>\n",
              "      <td>0.092036</td>\n",
              "      <td>0.076877</td>\n",
              "      <td>0.154837</td>\n",
              "      <td>0.296681</td>\n",
              "      <td>0.228466</td>\n",
              "      <td>0.165665</td>\n",
              "      <td>0.272859</td>\n",
              "      <td>0.316170</td>\n",
              "      <td>0.288018</td>\n",
              "      <td>0.258783</td>\n",
              "      <td>0.125602</td>\n",
              "      <td>0.011911</td>\n",
              "      <td>0.011911</td>\n",
              "      <td>-0.075794</td>\n",
              "      <td>-0.129933</td>\n",
              "      <td>-0.048725</td>\n",
              "      <td>-0.028152</td>\n",
              "      <td>-0.120188</td>\n",
              "      <td>-0.204645</td>\n",
              "      <td>-0.238211</td>\n",
              "      <td>-0.253370</td>\n",
              "      <td>-0.258783</td>\n",
              "      <td>-0.275025</td>\n",
              "      <td>-0.180824</td>\n",
              "      <td>0.051973</td>\n",
              "      <td>0.081208</td>\n",
              "      <td>0.018407</td>\n",
              "      <td>0.188403</td>\n",
              "      <td>0.294515</td>\n",
              "      <td>0.245790</td>\n",
              "      <td>0.342157</td>\n",
              "      <td>0.409289</td>\n",
              "      <td>0.292349</td>\n",
              "      <td>...</td>\n",
              "      <td>0.217638</td>\n",
              "      <td>0.123436</td>\n",
              "      <td>-0.122354</td>\n",
              "      <td>-0.264197</td>\n",
              "      <td>-0.110443</td>\n",
              "      <td>0.080125</td>\n",
              "      <td>0.036814</td>\n",
              "      <td>0.032483</td>\n",
              "      <td>-0.006497</td>\n",
              "      <td>-0.187320</td>\n",
              "      <td>-0.144009</td>\n",
              "      <td>0.120188</td>\n",
              "      <td>0.272859</td>\n",
              "      <td>0.140761</td>\n",
              "      <td>0.027069</td>\n",
              "      <td>-0.018407</td>\n",
              "      <td>-0.152671</td>\n",
              "      <td>-0.089870</td>\n",
              "      <td>0.098533</td>\n",
              "      <td>0.084457</td>\n",
              "      <td>-0.018407</td>\n",
              "      <td>-0.149423</td>\n",
              "      <td>-0.144009</td>\n",
              "      <td>-0.090953</td>\n",
              "      <td>-0.132099</td>\n",
              "      <td>-0.113691</td>\n",
              "      <td>0.001083</td>\n",
              "      <td>0.153754</td>\n",
              "      <td>0.085539</td>\n",
              "      <td>-0.205727</td>\n",
              "      <td>-0.286936</td>\n",
              "      <td>-0.171079</td>\n",
              "      <td>-0.036814</td>\n",
              "      <td>-0.024904</td>\n",
              "      <td>0.031400</td>\n",
              "      <td>0.140761</td>\n",
              "      <td>-0.011911</td>\n",
              "      <td>-0.173244</td>\n",
              "      <td>-0.063884</td>\n",
              "      <td>0.081208</td>\n",
              "    </tr>\n",
              "    <tr>\n",
              "      <th>instance_4</th>\n",
              "      <td>-1.022780</td>\n",
              "      <td>-0.916376</td>\n",
              "      <td>-0.676425</td>\n",
              "      <td>-0.461445</td>\n",
              "      <td>-0.330069</td>\n",
              "      <td>-0.122690</td>\n",
              "      <td>0.178064</td>\n",
              "      <td>0.489675</td>\n",
              "      <td>0.799115</td>\n",
              "      <td>0.931577</td>\n",
              "      <td>0.938091</td>\n",
              "      <td>0.997808</td>\n",
              "      <td>0.948949</td>\n",
              "      <td>0.618880</td>\n",
              "      <td>0.212808</td>\n",
              "      <td>-0.015201</td>\n",
              "      <td>-0.221494</td>\n",
              "      <td>-0.485332</td>\n",
              "      <td>-0.559163</td>\n",
              "      <td>-0.577621</td>\n",
              "      <td>-0.740484</td>\n",
              "      <td>-0.867517</td>\n",
              "      <td>-0.857745</td>\n",
              "      <td>-0.771971</td>\n",
              "      <td>-0.616708</td>\n",
              "      <td>-0.264924</td>\n",
              "      <td>0.170463</td>\n",
              "      <td>0.450588</td>\n",
              "      <td>0.643852</td>\n",
              "      <td>0.766542</td>\n",
              "      <td>0.863174</td>\n",
              "      <td>1.044495</td>\n",
              "      <td>1.086839</td>\n",
              "      <td>0.746999</td>\n",
              "      <td>0.275781</td>\n",
              "      <td>0.041259</td>\n",
              "      <td>-0.096632</td>\n",
              "      <td>-0.353956</td>\n",
              "      <td>-0.507047</td>\n",
              "      <td>-0.546134</td>\n",
              "      <td>...</td>\n",
              "      <td>-0.781743</td>\n",
              "      <td>-0.659053</td>\n",
              "      <td>-0.621051</td>\n",
              "      <td>-0.413672</td>\n",
              "      <td>-0.023887</td>\n",
              "      <td>0.255152</td>\n",
              "      <td>0.498361</td>\n",
              "      <td>0.735055</td>\n",
              "      <td>0.740484</td>\n",
              "      <td>0.679682</td>\n",
              "      <td>0.826259</td>\n",
              "      <td>1.001065</td>\n",
              "      <td>0.916376</td>\n",
              "      <td>0.641680</td>\n",
              "      <td>0.317040</td>\n",
              "      <td>-0.077089</td>\n",
              "      <td>-0.425615</td>\n",
              "      <td>-0.689454</td>\n",
              "      <td>-0.840373</td>\n",
              "      <td>-0.815401</td>\n",
              "      <td>-0.774142</td>\n",
              "      <td>-0.783914</td>\n",
              "      <td>-0.648195</td>\n",
              "      <td>-0.331155</td>\n",
              "      <td>-0.046687</td>\n",
              "      <td>0.199779</td>\n",
              "      <td>0.449502</td>\n",
              "      <td>0.422358</td>\n",
              "      <td>0.258409</td>\n",
              "      <td>0.501618</td>\n",
              "      <td>1.009751</td>\n",
              "      <td>1.134613</td>\n",
              "      <td>0.836030</td>\n",
              "      <td>0.479903</td>\n",
              "      <td>0.109661</td>\n",
              "      <td>-0.285553</td>\n",
              "      <td>-0.628651</td>\n",
              "      <td>-0.916376</td>\n",
              "      <td>-1.010837</td>\n",
              "      <td>-0.804544</td>\n",
              "    </tr>\n",
              "  </tbody>\n",
              "</table>\n",
              "<p>5 rows × 61440 columns</p>\n",
              "</div>"
            ],
            "text/plain": [
              "               0         1         2      ...     61437     61438     61439\n",
              "instance_0  0.041259  0.041259  0.032573  ...  0.096632  0.077089  0.040173\n",
              "instance_1 -0.211722 -0.264924 -0.274696  ... -0.838202 -0.880546 -0.739398\n",
              "instance_2  0.214105  0.154930  0.136640  ...  1.296464  0.937112  0.451879\n",
              "instance_3 -0.154837 -0.127768 -0.217638  ... -0.173244 -0.063884  0.081208\n",
              "instance_4 -1.022780 -0.916376 -0.676425  ... -0.916376 -1.010837 -0.804544\n",
              "\n",
              "[5 rows x 61440 columns]"
            ]
          },
          "metadata": {
            "tags": []
          },
          "execution_count": 3
        }
      ]
    },
    {
      "cell_type": "code",
      "metadata": {
        "colab": {
          "base_uri": "https://localhost:8080/"
        },
        "id": "_tmZ0o8l64_a",
        "outputId": "028466b0-f70b-4c66-d1df-223a44052443"
      },
      "source": [
        "import matplotlib.pyplot as plt\n",
        "from sklearn.neighbors import NearestNeighbors\n",
        "\n",
        "nbrs = NearestNeighbors(n_neighbors = 5)# fit model\n",
        "nbrs.fit(trainData)"
      ],
      "execution_count": 11,
      "outputs": [
        {
          "output_type": "execute_result",
          "data": {
            "text/plain": [
              "NearestNeighbors(algorithm='auto', leaf_size=30, metric='minkowski',\n",
              "                 metric_params=None, n_jobs=None, n_neighbors=5, p=2,\n",
              "                 radius=1.0)"
            ]
          },
          "metadata": {
            "tags": []
          },
          "execution_count": 11
        }
      ]
    },
    {
      "cell_type": "code",
      "metadata": {
        "colab": {
          "base_uri": "https://localhost:8080/",
          "height": 283
        },
        "id": "zQJob7s1W3vp",
        "outputId": "3911568f-d444-42c6-9de5-9143c0a64471"
      },
      "source": [
        "distances, indexes = nbrs.kneighbors(dataset)# plot mean of k-distances of each observation\n",
        "plt.plot(distances.mean(axis =1))"
      ],
      "execution_count": 12,
      "outputs": [
        {
          "output_type": "execute_result",
          "data": {
            "text/plain": [
              "[<matplotlib.lines.Line2D at 0x7f312ba66550>]"
            ]
          },
          "metadata": {
            "tags": []
          },
          "execution_count": 12
        },
        {
          "output_type": "display_data",
          "data": {
            "image/png": "[encoded data removed]",
            "text/plain": [
              "<Figure size 432x288 with 1 Axes>"
            ]
          },
          "metadata": {
            "tags": [],
            "needs_background": "light"
          }
        }
      ]
    },
    {
      "cell_type": "code",
      "metadata": {
        "colab": {
          "base_uri": "https://localhost:8080/",
          "height": 283
        },
        "id": "gdd-tk1HxmG6",
        "outputId": "0197f510-2f26-4393-8da7-cf50a8dcd9c5"
      },
      "source": [
        "x_coordinates = [0, 2000]\n",
        "y_coordinates = [208, 208]\n",
        "plt.yticks(np.arange(0, 9000, 400))\n",
        "plt.plot(distances.mean(axis =1))\n",
        "plt.plot(x_coordinates, y_coordinates)"
      ],
      "execution_count": 22,
      "outputs": [
        {
          "output_type": "execute_result",
          "data": {
            "text/plain": [
              "[<matplotlib.lines.Line2D at 0x7f30e3617050>]"
            ]
          },
          "metadata": {
            "tags": []
          },
          "execution_count": 22
        },
        {
          "output_type": "display_data",
          "data": {
            "image/png": "[encoded data removed]",
            "text/plain": [
              "<Figure size 432x288 with 1 Axes>"
            ]
          },
          "metadata": {
            "tags": [],
            "needs_background": "light"
          }
        }
      ]
    },
    {
      "cell_type": "code",
      "metadata": {
        "colab": {
          "base_uri": "https://localhost:8080/",
          "height": 283
        },
        "id": "mbtmgLAx-CFR",
        "outputId": "7a9bea1b-2b3d-43b8-d82d-e73e33bb9932"
      },
      "source": [
        "distances2, indexes2 = nbrs.kneighbors(testData)# plot mean of k-distances of each observation\n",
        "plt.plot(distances2.mean(axis =1))"
      ],
      "execution_count": 16,
      "outputs": [
        {
          "output_type": "execute_result",
          "data": {
            "text/plain": [
              "[<matplotlib.lines.Line2D at 0x7f30e374e310>]"
            ]
          },
          "metadata": {
            "tags": []
          },
          "execution_count": 16
        },
        {
          "output_type": "display_data",
          "data": {
            "image/png": "[encoded data removed]",
            "text/plain": [
              "<Figure size 432x288 with 1 Axes>"
            ]
          },
          "metadata": {
            "tags": [],
            "needs_background": "light"
          }
        }
      ]
    },
    {
      "cell_type": "code",
      "metadata": {
        "colab": {
          "base_uri": "https://localhost:8080/",
          "height": 283
        },
        "id": "3QzTk7-lNo0e",
        "outputId": "1ee4d213-576a-4d2b-c9dd-b13cb2f1d94e"
      },
      "source": [
        "x_coordinates = [0, 200]\n",
        "y_coordinates = [208, 208]\n",
        "plt.plot(x_coordinates, y_coordinates)\n",
        "plt.yticks(np.arange(0, 8000, 400))\n",
        "plt.plot(distances2.mean(axis =1))"
      ],
      "execution_count": 23,
      "outputs": [
        {
          "output_type": "execute_result",
          "data": {
            "text/plain": [
              "[<matplotlib.lines.Line2D at 0x7f30e35ad390>]"
            ]
          },
          "metadata": {
            "tags": []
          },
          "execution_count": 23
        },
        {
          "output_type": "display_data",
          "data": {
            "image/png": "[encoded data removed]",
            "text/plain": [
              "<Figure size 432x288 with 1 Axes>"
            ]
          },
          "metadata": {
            "tags": [],
            "needs_background": "light"
          }
        }
      ]
    },
    {
      "cell_type": "code",
      "metadata": {
        "colab": {
          "base_uri": "https://localhost:8080/"
        },
        "id": "gAf8AA_vLOIZ",
        "outputId": "29b2c72a-b9c0-4770-e098-6028063f0756"
      },
      "source": [
        "outlier_index = np.where(distances2.mean(axis = 1) > 208)\n",
        "outlier_index"
      ],
      "execution_count": 21,
      "outputs": [
        {
          "output_type": "execute_result",
          "data": {
            "text/plain": [
              "(array([  6,  10,  14,  15,  16,  22,  23,  24,  25,  26,  29,  30,  32,\n",
              "         33,  34,  36,  39,  40,  41,  44,  47,  52,  53,  56,  57,  58,\n",
              "         60,  61,  65,  67,  69,  70,  74,  75,  79,  80,  81,  82,  83,\n",
              "         85,  86,  88,  91,  96,  99, 100, 104, 108, 109, 111, 113, 116,\n",
              "        119, 121, 124, 126, 128, 130, 131, 133, 135, 136, 138, 143, 145,\n",
              "        146, 147, 148, 151, 157, 162, 167, 168, 170, 172, 174, 175, 176,\n",
              "        177, 179]),)"
            ]
          },
          "metadata": {
            "tags": []
          },
          "execution_count": 21
        }
      ]
    },
    {
      "cell_type": "code",
      "metadata": {
        "colab": {
          "base_uri": "https://localhost:8080/"
        },
        "id": "R_MZM7lPRvPi",
        "outputId": "41af7821-0d29-46ac-cbaf-18efa1828220"
      },
      "source": [
        "results = [0] * 180\n",
        "\n",
        "r = np.array(results)\n",
        "r[outlier_index] = 1\n",
        "r"
      ],
      "execution_count": 24,
      "outputs": [
        {
          "output_type": "execute_result",
          "data": {
            "text/plain": [
              "array([0, 0, 0, 0, 0, 0, 1, 0, 0, 0, 1, 0, 0, 0, 1, 1, 1, 0, 0, 0, 0, 0,\n",
              "       1, 1, 1, 1, 1, 0, 0, 1, 1, 0, 1, 1, 1, 0, 1, 0, 0, 1, 1, 1, 0, 0,\n",
              "       1, 0, 0, 1, 0, 0, 0, 0, 1, 1, 0, 0, 1, 1, 1, 0, 1, 1, 0, 0, 0, 1,\n",
              "       0, 1, 0, 1, 1, 0, 0, 0, 1, 1, 0, 0, 0, 1, 1, 1, 1, 1, 0, 1, 1, 0,\n",
              "       1, 0, 0, 1, 0, 0, 0, 0, 1, 0, 0, 1, 1, 0, 0, 0, 1, 0, 0, 0, 1, 1,\n",
              "       0, 1, 0, 1, 0, 0, 1, 0, 0, 1, 0, 1, 0, 0, 1, 0, 1, 0, 1, 0, 1, 1,\n",
              "       0, 1, 0, 1, 1, 0, 1, 0, 0, 0, 0, 1, 0, 1, 1, 1, 1, 0, 0, 1, 0, 0,\n",
              "       0, 0, 0, 1, 0, 0, 0, 0, 1, 0, 0, 0, 0, 1, 1, 0, 1, 0, 1, 0, 1, 1,\n",
              "       1, 1, 0, 1])"
            ]
          },
          "metadata": {
            "tags": []
          },
          "execution_count": 24
        }
      ]
    },
    {
      "cell_type": "code",
      "metadata": {
        "colab": {
          "base_uri": "https://localhost:8080/"
        },
        "id": "-sRbS57TLqEz",
        "outputId": "f5a17738-0df5-400c-c7dc-4ac470d71ac7"
      },
      "source": [
        "#number of abnormal data in the testData\n",
        "c = 0\n",
        "for i in r:\n",
        "  if i == 1:\n",
        "    c+=1\n",
        "c"
      ],
      "execution_count": 25,
      "outputs": [
        {
          "output_type": "execute_result",
          "data": {
            "text/plain": [
              "80"
            ]
          },
          "metadata": {
            "tags": []
          },
          "execution_count": 25
        }
      ]
    },
    {
      "cell_type": "code",
      "metadata": {
        "id": "jubNBSCzFypa"
      },
      "source": [
        "instances = []\n",
        "for i in range(180):\n",
        "  instances.append(\"instance_\" + str(i))\n",
        "instances\n",
        "df = pd.DataFrame({'instances' : instances,'label' : r})\n",
        "df.rename(columns={0: \"instances\", 1: \"label\"})\n",
        "df[\"label\"] = df.label.astype(np.int)\n",
        "df\n",
        "df.to_csv('/content/gdrive/My Drive/DataScience/test.csv',index=False)"
      ],
      "execution_count": null,
      "outputs": []
    }
  ]
}