{
  "nbformat": 4,
  "nbformat_minor": 0,
  "metadata": {
    "colab": {
      "name": "MLP.ipynb",
      "provenance": [],
      "collapsed_sections": []
    },
    "kernelspec": {
      "name": "python3",
      "display_name": "Python 3"
    },
    "language_info": {
      "name": "python"
    }
  },
  "cells": [
    {
      "cell_type": "markdown",
      "metadata": {
        "id": "MF1q46g2RDLs"
      },
      "source": [
        "**You need to put the files in your drive and mount them**\n",
        "\n"
      ]
    },
    {
      "cell_type": "code",
      "metadata": {
        "id": "FAQlvV2DOcSH"
      },
      "source": [
        "import pandas as pd\n",
        "import numpy as np\n",
        "import torch \n",
        "import torch.nn as nn\n",
        "import matplotlib.pyplot as plt\n",
        "from torch.utils.data import DataLoader\n",
        "from torch.utils.data import TensorDataset\n",
        "from sklearn.model_selection import train_test_split\n",
        "from sklearn.preprocessing import StandardScaler \n",
        "from sklearn.neural_network import MLPClassifier\n",
        "data = pd.read_parquet('/content/drive/MyDrive/Class1.parquet', engine='pyarrow')\n",
        "wdata = pd.read_parquet('/content/drive/MyDrive/Class2.parquet', engine='pyarrow')\n",
        "validation = pd.read_parquet('/content/drive/MyDrive/validation.parquet', engine='pyarrow')\n",
        "data =data.T\n",
        "wdata = wdata.T\n",
        "validation = validation.T"
      ],
      "execution_count": 2,
      "outputs": []
    },
    {
      "cell_type": "code",
      "metadata": {
        "id": "ItEYUfeDRR6v"
      },
      "source": [
        "data[\"label\"] = 0\n",
        "wdata[\"label\"] = 1\n",
        "frames = [data,wdata]\n",
        "dataset = pd.concat(frames)\n",
        "dataset = dataset.sample(frac=1).reset_index(drop=True)\n",
        "y_dataset = dataset[\"label\"]\n",
        "dataset = dataset.drop([\"label\"],axis =1)"
      ],
      "execution_count": 3,
      "outputs": []
    },
    {
      "cell_type": "code",
      "metadata": {
        "id": "z0MGXrppRhDH"
      },
      "source": [
        "X_train, X_test, y_train, y_test = train_test_split(dataset, y_dataset, test_size=0.33, random_state=42)"
      ],
      "execution_count": 4,
      "outputs": []
    },
    {
      "cell_type": "code",
      "metadata": {
        "id": "ul533DZuRjmQ"
      },
      "source": [
        "clf = MLPClassifier(solver='lbfgs', alpha=1e-5, hidden_layer_sizes=( 300, 200, 1), random_state=1)"
      ],
      "execution_count": 5,
      "outputs": []
    },
    {
      "cell_type": "code",
      "metadata": {
        "id": "wx-NoM7RRmFP"
      },
      "source": [
        "clf.fit(X_train, y_train)"
      ],
      "execution_count": null,
      "outputs": []
    },
    {
      "cell_type": "code",
      "metadata": {
        "colab": {
          "base_uri": "https://localhost:8080/"
        },
        "id": "ASljYgu4Rp7k",
        "outputId": "bbc6a14a-b5a9-4b1d-fde6-36d32c021ef9"
      },
      "source": [
        "from sklearn.metrics import mean_squared_error\n",
        "pred = clf.predict(X_train)\n",
        "print(mean_squared_error(pred,y_train))\n",
        "pred = clf.predict(X_test)\n",
        "print(mean_squared_error(pred,y_test))"
      ],
      "execution_count": 7,
      "outputs": [
        {
          "output_type": "stream",
          "text": [
            "0.10580747812251393\n",
            "0.10806451612903226\n"
          ],
          "name": "stdout"
        }
      ]
    },
    {
      "cell_type": "code",
      "metadata": {
        "id": "idkyPV4NRtAL"
      },
      "source": [
        "results = clf.predict(validation)"
      ],
      "execution_count": 8,
      "outputs": []
    },
    {
      "cell_type": "code",
      "metadata": {
        "id": "SEntNcuBRviy"
      },
      "source": [
        "df = pd.DataFrame({'instances' : ['instance_0','instance_1','instance_2','instance_3','instance_4','instance_5','instance_6','instance_7','instance_8','instance_9','instance_10','instance_11','instance_12','instance_13','instance_14','instance_15','instance_16','instance_17','instance_18','instance_19','instance_20','instance_21','instance_22','instance_23','instance_24','instance_25','instance_26','instance_27','instance_28','instance_29','instance_30','instance_31','instance_32','instance_33','instance_34','instance_35','instance_36','instance_37','instance_38','instance_39','instance_40','instance_41','instance_42','instance_43','instance_44','instance_45','instance_46','instance_47','instance_48','instance_49','instance_50','instance_51','instance_52','instance_53','instance_54','instance_55','instance_56','instance_57','instance_58','instance_59','instance_60','instance_61','instance_62','instance_63','instance_64','instance_65','instance_66','instance_67','instance_68','instance_69','instance_70','instance_71','instance_72','instance_73','instance_74','instance_75','instance_76','instance_77','instance_78','instance_79','instance_80','instance_81','instance_82','instance_83','instance_84','instance_85','instance_86','instance_87','instance_88','instance_89','instance_90','instance_91','instance_92','instance_93','instance_94','instance_95','instance_96','instance_97','instance_98','instance_99','instance_100','instance_101','instance_102','instance_103','instance_104','instance_105','instance_106','instance_107','instance_108','instance_109','instance_110','instance_111','instance_112','instance_113','instance_114','instance_115','instance_116','instance_117','instance_118','instance_119','instance_120','instance_121','instance_122','instance_123','instance_124','instance_125','instance_126','instance_127','instance_128','instance_129','instance_130','instance_131','instance_132','instance_133','instance_134','instance_135','instance_136','instance_137','instance_138','instance_139','instance_140','instance_141','instance_142','instance_143','instance_144','instance_145','instance_146','instance_147','instance_148','instance_149','instance_150','instance_151','instance_152','instance_153','instance_154','instance_155','instance_156','instance_157','instance_158','instance_159','instance_160','instance_161','instance_162','instance_163','instance_164','instance_165','instance_166','instance_167','instance_168','instance_169','instance_170','instance_171','instance_172','instance_173','instance_174','instance_175','instance_176','instance_177','instance_178','instance_179'],'label' : results})\n",
        "df.rename(columns={0: \"instances\", 1: \"label\"})\n",
        "df[\"label\"] = df.label.astype(np.int)"
      ],
      "execution_count": null,
      "outputs": []
    },
    {
      "cell_type": "code",
      "metadata": {
        "id": "MDuHc2ayRzIh"
      },
      "source": [
        "df.to_csv('/content/sample_data/test.csv',index=False)"
      ],
      "execution_count": null,
      "outputs": []
    }
  ]
}