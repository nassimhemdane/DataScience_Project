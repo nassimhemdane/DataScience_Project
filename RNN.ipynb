{
  "nbformat": 4,
  "nbformat_minor": 0,
  "metadata": {
    "colab": {
      "name": "RNN.ipynb",
      "provenance": [],
      "collapsed_sections": []
    },
    "kernelspec": {
      "name": "python3",
      "display_name": "Python 3"
    },
    "language_info": {
      "name": "python"
    }
  },
  "cells": [
    {
      "cell_type": "markdown",
      "metadata": {
        "id": "mNW4rF1GWGiC"
      },
      "source": [
        "**You need to put the files in your drive and mount them**\n"
      ]
    },
    {
      "cell_type": "code",
      "metadata": {
        "id": "mUghoKWjV441"
      },
      "source": [
        "import pandas as pd\n",
        "import numpy as np\n",
        "import torch \n",
        "import torch.nn as nn\n",
        "import matplotlib.pyplot as plt\n",
        "from torch.utils.data import DataLoader\n",
        "from torch.utils.data import TensorDataset\n",
        "from sklearn.model_selection import train_test_split\n",
        "from sklearn.preprocessing import StandardScaler \n",
        "from sklearn.neural_network import MLPClassifier\n",
        "data = pd.read_parquet('/content/drive/MyDrive/Class1.parquet', engine='pyarrow')\n",
        "wdata = pd.read_parquet('/content/drive/MyDrive/Class2.parquet', engine='pyarrow')\n",
        "validation = pd.read_parquet('/content/drive/MyDrive/validation.parquet', engine='pyarrow')\n",
        "data =data.T\n",
        "wdata = wdata.T\n",
        "validation = validation.T\n",
        "d = {'value': [0 for i in range(1677)]}\n",
        "data_y =pd.DataFrame(data=d)\n",
        "d2 = {'value': [1 for i in range(200)]}\n",
        "wdata_y =pd.DataFrame(data=d2)\n",
        "data = torch.tensor(np.array(data))\n",
        "data_y = torch.tensor(np.array(data_y))\n",
        "wdata =  torch.tensor(np.array(wdata))"
      ],
      "execution_count": 6,
      "outputs": []
    },
    {
      "cell_type": "code",
      "metadata": {
        "id": "M8wmIZipWQ1g"
      },
      "source": [
        "X_train, X_test, y_train, y_test = train_test_split(data, data_y, test_size=0.33, random_state=42)"
      ],
      "execution_count": 3,
      "outputs": []
    },
    {
      "cell_type": "code",
      "metadata": {
        "id": "sZsDZv8OYjMJ"
      },
      "source": [
        "X_train=torch.tensor(np.array(X_train))\n",
        "X_test = torch.tensor(np.array(X_test))\n",
        "y_train = torch.tensor(np.array(y_train))\n",
        "y_test = torch.tensor(np.array(y_test))\n"
      ],
      "execution_count": 4,
      "outputs": []
    },
    {
      "cell_type": "code",
      "metadata": {
        "id": "NZfc7QBeYv7u"
      },
      "source": [
        "class RNN(nn.Module):\n",
        "    def __init__(self, input_size, hidden_size, output_size):\n",
        "        super(RNN, self).__init__()\n",
        "\n",
        "        self.hidden_size = hidden_size\n",
        "\n",
        "        self.i2h = nn.Linear(input_size + hidden_size, hidden_size)\n",
        "        self.i2o = nn.Linear(input_size + hidden_size, output_size)\n",
        "        self.sigmoid = nn.Sigmoid()\n",
        "\n",
        "    def forward(self, input, hidden):\n",
        "        combined = torch.cat((input, hidden), 1)\n",
        "        hidden = self.i2h(combined)\n",
        "        output = self.i2o(combined)\n",
        "        output = self.sigmoid(output)\n",
        "        return output, hidden\n",
        "\n",
        "    def initHidden(self):\n",
        "        return torch.zeros(1, self.hidden_size)\n",
        "\n",
        "n_hidden = 10\n",
        "rnn = RNN(1, n_hidden, 1)"
      ],
      "execution_count": null,
      "outputs": []
    },
    {
      "cell_type": "code",
      "metadata": {
        "id": "4zByxsdHYwWU"
      },
      "source": [
        "def evaluate(line_tensor):\n",
        "    hidden = rnn.initHidden()\n",
        "\n",
        "    for i in range(line_tensor.size()[1]):\n",
        "        input = torch.unsqueeze(line_tensor[0][i], 0)\n",
        "        input = torch.unsqueeze(input, 0)\n",
        "        output, hidden = rnn(input.float(), hidden)\n",
        "\n",
        "    return output"
      ],
      "execution_count": null,
      "outputs": []
    },
    {
      "cell_type": "code",
      "metadata": {
        "id": "cRTfe7rHYyDC"
      },
      "source": [
        "learning_rate = 0.005 \n",
        "criterion = nn.NLLLoss()\n",
        "def train(category_tensor, line_tensor):\n",
        "    hidden = rnn.initHidden()\n",
        "\n",
        "    rnn.zero_grad()\n",
        "    for i in range(line_tensor.size()[1]):\n",
        "        input = torch.unsqueeze(line_tensor[0][i], 0)\n",
        "        input = torch.unsqueeze(input, 0)\n",
        "        output, hidden = rnn(input.float(), hidden)\n",
        "    \n",
        "    loss = criterion(output.float().view((-1)), torch.tensor([1]).float())\n",
        "    loss.backward()\n",
        "\n",
        "    for p in rnn.parameters():\n",
        "        p.data.add_(p.grad.data, alpha=-learning_rate)\n",
        "\n",
        "    return output, loss.item()"
      ],
      "execution_count": null,
      "outputs": []
    },
    {
      "cell_type": "code",
      "metadata": {
        "id": "_-bFVRnfYzo9"
      },
      "source": [
        "n_iters = 100\n",
        "criterion = nn.BCELoss()\n",
        "\n",
        "category_tensor = torch.tensor([0,1])\n",
        "rnn = RNN(1, n_hidden, 1)\n",
        "category_tensor = torch.tensor([0,1])\n",
        "\n",
        "current_loss = 0\n",
        "all_losses = []\n",
        "\n",
        "for iter in range(1, n_iters + 1):\n",
        "    line_tensor = torch.tensor(X_train.sample().values)\n",
        "    output, loss = train(category_tensor, line_tensor)\n",
        "    current_loss += loss\n",
        "  \n",
        "print(current_loss)\n"
      ],
      "execution_count": null,
      "outputs": []
    },
    {
      "cell_type": "code",
      "metadata": {
        "id": "ljRutcHhY1fN"
      },
      "source": [
        "score=0\n",
        "for i in np.array(X_test):\n",
        "  output = evaluate(torch.tensor(i))\n",
        "  if(output.view((-1)).view((-1)) >0.5):\n",
        "    score=score+1"
      ],
      "execution_count": null,
      "outputs": []
    },
    {
      "cell_type": "markdown",
      "metadata": {
        "id": "h0h91Q4gY-8P"
      },
      "source": [
        "**ne converge pas**"
      ]
    }
  ]
}